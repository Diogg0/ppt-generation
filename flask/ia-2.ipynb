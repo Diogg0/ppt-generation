{
 "cells": [
  {
   "cell_type": "markdown",
   "metadata": {},
   "source": [
    "# Exception Handling"
   ]
  },
  {
   "cell_type": "code",
   "execution_count": null,
   "metadata": {},
   "outputs": [],
   "source": [
    "def divide():    \n",
    "\n",
    "    number1 = int(input(\"Enter a number:\"))\n",
    "    number2 = int(input(\"Enter another number:\"))\n",
    "\n",
    "    try:\n",
    "        return number1 / number2\n",
    "    except ZeroDivisionError: # This is the error that is raised when you try to divide by zero\n",
    "        print(\"You can't divide by zero\")\n",
    "        return None\n",
    "    except ValueError: # This is the error that is raised when you try to divide by a non-integer\n",
    "        print(\"Please enter a number\")\n",
    "        return None\n",
    "    \n",
    "    finally: # This block of code will always run, regardless of whether an error is raised or not\n",
    "        a = input(\"Do you want to continue? (y/n):\")\n",
    "        if a == \"y\":\n",
    "            divide()\n",
    "        else:\n",
    "            print(\"Exiting\")\n",
    "            return None\n",
    "    "
   ]
  },
  {
   "cell_type": "markdown",
   "metadata": {},
   "source": [
    "# Reading text files\n"
   ]
  },
  {
   "cell_type": "code",
   "execution_count": 1,
   "metadata": {},
   "outputs": [
    {
     "name": "stdout",
     "output_type": "stream",
     "text": [
      "Hello Hriddhisha, love you soo much!\n"
     ]
    }
   ],
   "source": [
    "file = open(\"sample.txt\", \"r\") # This will open the file in read mode\n",
    "print(file.read())\n",
    "file.close() # This will close the file\n",
    "\n",
    "# Alternatively, you can use the with statement to open the file\n",
    "\n",
    "with open(\"sample.txt\", \"r\") as file: # This will automatically close the file after the block of code is executed\n",
    "    print(file.read())"
   ]
  },
  {
   "cell_type": "markdown",
   "metadata": {},
   "source": [
    "# Writing Text files"
   ]
  },
  {
   "cell_type": "code",
   "execution_count": null,
   "metadata": {},
   "outputs": [],
   "source": [
    "file = open(\"sample.txt\", \"w\")\n",
    "file.write(\"Love you soo much\")\n",
    "file.close()\n",
    "\n",
    "lines = [\"You\", \"Are\", \"The\", \"Best\"]\n",
    "\n",
    "with open(\"sample.txt\", \"w\") as file: # This will automatically close the file after the block of code is executed\n",
    "    file.write(\"Love you soo much\")\n",
    "    file.writelines(lines)\n",
    "\n"
   ]
  },
  {
   "cell_type": "markdown",
   "metadata": {},
   "source": [
    "# Other operations"
   ]
  },
  {
   "cell_type": "code",
   "execution_count": null,
   "metadata": {},
   "outputs": [],
   "source": [
    "file = open(\"sample.txt\", \"r+\") # r+ allows you to read and write to the file without truncating it\n",
    "file.close()\n",
    "file = open(\"sample.txt\", \"a\") # a allows you to append to the file\n",
    "file.close()\n",
    "file = open(\"sample.txt\", \"w+\") # w+ allows you to read and write to the file\n",
    "file.close()\n"
   ]
  },
  {
   "cell_type": "markdown",
   "metadata": {},
   "source": [
    "# Tkinter Module"
   ]
  },
  {
   "cell_type": "markdown",
   "metadata": {},
   "source": [
    "Adding various buttons"
   ]
  },
  {
   "cell_type": "code",
   "execution_count": 3,
   "metadata": {},
   "outputs": [],
   "source": [
    "from tkinter import *\n",
    "\n",
    "window = Tk() # Creates a window class\n",
    "\n",
    "window.title(\"Title\") # Sets the title of the window\n",
    "\n",
    "window.geometry(\"500x500\") # Sets the size of the window\n",
    "\n",
    "# Create different types of buttons\n",
    "button1 = Button(window, text=\"Regular Button\") # Creates a button\n",
    "button1.pack()\n",
    "\n",
    "radio = Radiobutton(window, text=\"Radio Button\") # Creates a radio button\n",
    "radio.pack()\n",
    "\n",
    "check = Checkbutton(window, text=\"Check Button\") # Creates a check button\n",
    "check.pack()\n",
    "\n",
    "# pack is used to display the button on the window\n",
    "\n",
    "window.mainloop() # This is used to run the window"
   ]
  },
  {
   "cell_type": "markdown",
   "metadata": {},
   "source": [
    "Taking in name from the user using Tkinter"
   ]
  },
  {
   "cell_type": "code",
   "execution_count": 5,
   "metadata": {},
   "outputs": [],
   "source": [
    "from tkinter import *\n",
    "\n",
    "def print_name(): # Function to print the name\n",
    "    name = entry.get() # Gets the name from the entry widget\n",
    "    print(name)\n",
    "\n",
    "window = Tk()\n",
    "window.title(\"Name Printer\")\n",
    "window.geometry(\"500x500\")\n",
    "\n",
    "entry = Entry(window) # Creates an entry widget where you can type in text\n",
    "entry.pack()\n",
    "\n",
    "button = Button(window, text=\"Print Name\", command=print_name) # command is used to call a function when the button is clicked\n",
    "button.pack()\n",
    "\n",
    "window.mainloop()\n"
   ]
  },
  {
   "cell_type": "markdown",
   "metadata": {},
   "source": [
    "# Basic Numpy functions"
   ]
  },
  {
   "cell_type": "code",
   "execution_count": 6,
   "metadata": {},
   "outputs": [
    {
     "name": "stdout",
     "output_type": "stream",
     "text": [
      "[1 2 3 4 5]\n",
      "6\n"
     ]
    }
   ],
   "source": [
    "import numpy as np\n",
    "\n",
    "# Create a 1-dimensional array\n",
    "arr1 = np.array([1, 2, 3, 4, 5])\n",
    "print(arr1)\n",
    "\n",
    "# Create a 2-dimensional array\n",
    "arr2 = np.array([[1, 2, 3], [4, 5, 6]])\n",
    "print(arr2[1,2]) # Access the element at the second row and third column\n",
    "\n",
    "print(arr2.shape) # Get the shape of the array\n",
    "\n",
    "arr3 = np.ones((3, 3)) # Create a 3x3 array of ones\n",
    "arr4 = np.zeros((3, 3)) # Create a 3x3 array of zeros\n",
    "\n",
    "arr5 = np.arange(0, 10, 2) # Create an array of numbers from 0 to 10 with a step of 2\n",
    "\n"
   ]
  },
  {
   "cell_type": "markdown",
   "metadata": {},
   "source": [
    "# Pandas\n"
   ]
  },
  {
   "cell_type": "code",
   "execution_count": null,
   "metadata": {},
   "outputs": [],
   "source": [
    "import pandas as pd\n",
    "\n",
    "data = pd.read_csv(\"data.csv\") # Read a csv file\n",
    "\n",
    "print(data.head()) # Display the first 5 rows of the data\n",
    "\n",
    "print(data.describe()) # Display the summary statistics of the data\n",
    "\n",
    "print(data.shape) # Get the shape of the data\n",
    "\n",
    "print(data.columns) # Get the columns of the data\n",
    "\n",
    "print(data[\"column_name\"]) # Get a specific column of the data\n",
    "\n",
    "print(data.iloc[0]) # Get the first row of the data\n",
    "\n",
    "print(data.iloc[0, 0]) # Get the element at the first row and first column\n",
    "\n",
    "print(data[data[\"column_name\"] > 50]) # Get rows where the column value is greater than 50\n",
    "\n",
    "data[\"new_column\"] = data[\"column1\"] + data[\"column2\"] # Create a new column by adding two columns\n",
    "\n",
    "data.to_csv(\"new_data.csv\") # Save the data to a new csv file"
   ]
  }
 ],
 "metadata": {
  "kernelspec": {
   "display_name": "tensorflow",
   "language": "python",
   "name": "tensor-flow"
  },
  "language_info": {
   "codemirror_mode": {
    "name": "ipython",
    "version": 3
   },
   "file_extension": ".py",
   "mimetype": "text/x-python",
   "name": "python",
   "nbconvert_exporter": "python",
   "pygments_lexer": "ipython3",
   "version": "3.11.5"
  }
 },
 "nbformat": 4,
 "nbformat_minor": 2
}
